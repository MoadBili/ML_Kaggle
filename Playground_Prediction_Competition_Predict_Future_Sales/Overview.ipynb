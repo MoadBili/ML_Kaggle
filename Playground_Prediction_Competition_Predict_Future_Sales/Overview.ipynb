{
  "nbformat": 4,
  "nbformat_minor": 0,
  "metadata": {
    "colab": {
      "name": "Predict Future Sales.ipynb",
      "provenance": [],
      "collapsed_sections": [],
      "authorship_tag": "ABX9TyOWZczc1xloy6u58q3eyyLX",
      "include_colab_link": true
    },
    "kernelspec": {
      "name": "python3",
      "display_name": "Python 3"
    }
  },
  "cells": [
    {
      "cell_type": "markdown",
      "metadata": {
        "id": "view-in-github",
        "colab_type": "text"
      },
      "source": [
        "<a href=\"https://colab.research.google.com/github/MoadBili/ML_Kaggle/blob/main/Playground_Prediction_Competition_Predict_Future_Sales/Overview.ipynb\" target=\"_parent\"><img src=\"https://colab.research.google.com/assets/colab-badge.svg\" alt=\"Open In Colab\"/></a>"
      ]
    },
    {
      "cell_type": "markdown",
      "metadata": {
        "id": "O3FdnF519lZu"
      },
      "source": [
        "# Predict Future Sales\r\n",
        "## Overview\r\n",
        "[link for the competition](https://www.kaggle.com/c/competitive-data-science-predict-future-sales/)  \r\n",
        "**Final project for \"How to win a data science competition\" Coursera course**  \r\n",
        "This challenge serves as final project for the \"How to win a data science competition\" Coursera course.\r\n",
        "\r\n",
        "In this competition you will work with a challenging time-series dataset consisting of daily sales data, kindly provided by one of the largest Russian software firms - 1C Company. \r\n",
        "\r\n",
        "We are asking you to predict total sales for every product and store in the next month. By solving this competition you will be able to apply and enhance your data science skills.\r\n",
        "## Data\r\n",
        "You are provided with daily historical sales data. The task is to forecast the total amount of products sold in every shop for the test set.   \r\n",
        "Note that the list of shops and products slightly changes every month. Creating a robust model that can handle such situations is part of the challenge.\r\n",
        "\r\n",
        "### File descriptions\r\n",
        "- sales_train.csv - the training set. Daily historical data from January 2013 to October 2015.\r\n",
        "- test.csv - the test set. You need to forecast the sales for these shops and products for November 2015.\r\n",
        "- sample_submission.csv - a sample submission file in the correct format.\r\n",
        "- items.csv - supplemental information about the items/products.\r\n",
        "- item_categories.csv  - supplemental information about the items categories.\r\n",
        "- shops.csv- supplemental information about the shops.  \r\n",
        "\r\n",
        "### Data fields\r\n",
        "- ID - an Id that represents a (Shop, Item) tuple within the test set\r\n",
        "- shop_id - unique identifier of a shop\r\n",
        "- item_id - unique identifier of a product\r\n",
        "- item_category_id - unique identifier of item category\r\n",
        "- item_cnt_day - number of products sold. You are predicting a monthly amount of this measure\r\n",
        "- item_price - current price of an item\r\n",
        "- date - date in format dd/mm/yyyy\r\n",
        "- date_block_num - a consecutive month number, used for convenience. January 2013 is 0, February 2013 is 1,..., October 2015 is 33\r\n",
        "- item_name - name of item\r\n",
        "- shop_name - name of shop\r\n",
        "- item_category_name - name of item category.  \r\n",
        "\r\n",
        "This dataset is permitted to be used for any purpose, including commercial use."
      ]
    },
    {
      "cell_type": "code",
      "metadata": {
        "id": "LWLxkvcS84Af"
      },
      "source": [
        ""
      ],
      "execution_count": null,
      "outputs": []
    }
  ]
}