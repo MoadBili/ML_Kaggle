{
  "nbformat": 4,
  "nbformat_minor": 0,
  "metadata": {
    "colab": {
      "name": "Untitled11.ipynb",
      "provenance": [],
      "collapsed_sections": [],
      "authorship_tag": "ABX9TyNPFCDNJkoSJqWoOHOTboCi",
      "include_colab_link": true
    },
    "kernelspec": {
      "name": "python3",
      "display_name": "Python 3"
    }
  },
  "cells": [
    {
      "cell_type": "markdown",
      "metadata": {
        "id": "view-in-github",
        "colab_type": "text"
      },
      "source": [
        "<a href=\"https://colab.research.google.com/github/MoadBili/ML_Kaggle/blob/main/Predict%20Future%20Sales.ipynb\" target=\"_parent\"><img src=\"https://colab.research.google.com/assets/colab-badge.svg\" alt=\"Open In Colab\"/></a>"
      ]
    },
    {
      "cell_type": "markdown",
      "metadata": {
        "id": "O3FdnF519lZu"
      },
      "source": [
        "# Predict Future Sales\r\n",
        "[link for the competition](https://www.kaggle.com/c/competitive-data-science-predict-future-sales/)  \r\n",
        "**Final project for \"How to win a data science competition\" Coursera course**  \r\n",
        "This challenge serves as final project for the \"How to win a data science competition\" Coursera course.\r\n",
        "\r\n",
        "In this competition you will work with a challenging time-series dataset consisting of daily sales data, kindly provided by one of the largest Russian software firms - 1C Company. \r\n",
        "\r\n",
        "We are asking you to predict total sales for every product and store in the next month. By solving this competition you will be able to apply and enhance your data science skills."
      ]
    },
    {
      "cell_type": "code",
      "metadata": {
        "id": "LWLxkvcS84Af"
      },
      "source": [
        ""
      ],
      "execution_count": null,
      "outputs": []
    }
  ]
}